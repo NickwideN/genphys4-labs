{
 "cells": [
  {
   "cell_type": "code",
   "execution_count": 66,
   "metadata": {
    "collapsed": true
   },
   "outputs": [],
   "source": [
    "filename = \"data.csv\"\n",
    "units  = r\"$mm^2$\"\n",
    "\n",
    "xlabel = '$i$'\n",
    "ylabel = '$D^2_i$, $mm^2$'"
   ]
  },
  {
   "cell_type": "code",
   "execution_count": 67,
   "metadata": {
    "collapsed": false
   },
   "outputs": [],
   "source": [
    "import numpy as np\n",
    "import pandas as pd\n",
    "import sympy as sp\n",
    "import statsmodels.api as sm\n",
    "import math\n",
    "\n",
    "\n",
    "# Load data\n",
    "data = pd.read_csv(filename, engine='python', sep = ';', header=None)"
   ]
  },
  {
   "cell_type": "code",
   "execution_count": 68,
   "metadata": {
    "collapsed": false
   },
   "outputs": [],
   "source": [
    "# Exract arrays\n",
    "y = np.array(data[1])\n",
    "t = np.array(data[0])\n",
    "t = sm.add_constant(t, prepend=False)"
   ]
  },
  {
   "cell_type": "code",
   "execution_count": 69,
   "metadata": {
    "collapsed": true
   },
   "outputs": [],
   "source": [
    "# Fitting\n",
    "model = sm.OLS(y,t)\n",
    "result = model.fit()\n",
    "\n",
    "# Saving parameters\n",
    "s_err, i_err = result.bse\n",
    "s, i = result.params"
   ]
  },
  {
   "cell_type": "code",
   "execution_count": 70,
   "metadata": {
    "collapsed": false
   },
   "outputs": [
    {
     "name": "stderr",
     "output_type": "stream",
     "text": [
      "/Users/ri/anaconda3/lib/python3.6/site-packages/statsmodels/stats/stattools.py:72: UserWarning: omni_normtest is not valid with less than 8 observations; 6 samples were given.\n",
      "  \"samples were given.\" % int(n))\n"
     ]
    },
    {
     "data": {
      "text/html": [
       "<table class=\"simpletable\">\n",
       "<tr>\n",
       "    <td></td>       <th>coef</th>     <th>std err</th>      <th>t</th>      <th>P>|t|</th> <th>[95.0% Conf. Int.]</th> \n",
       "</tr>\n",
       "<tr>\n",
       "  <th>x1</th>    <td>  224.2325</td> <td>    1.303</td> <td>  172.153</td> <td> 0.000</td> <td>  220.616   227.849</td>\n",
       "</tr>\n",
       "<tr>\n",
       "  <th>const</th> <td>  -82.4580</td> <td>    5.073</td> <td>  -16.256</td> <td> 0.000</td> <td>  -96.542   -68.374</td>\n",
       "</tr>\n",
       "</table>"
      ],
      "text/plain": [
       "<class 'statsmodels.iolib.table.SimpleTable'>"
      ]
     },
     "execution_count": 70,
     "metadata": {},
     "output_type": "execute_result"
    }
   ],
   "source": [
    "result.summary().tables[1]"
   ]
  },
  {
   "cell_type": "code",
   "execution_count": 71,
   "metadata": {
    "collapsed": false
   },
   "outputs": [],
   "source": [
    "import matplotlib.pylab as plt\n",
    "from matplotlib import rc\n",
    "from matplotlib.ticker import AutoMinorLocator\n",
    "# Plot size\n",
    "plt.rcParams['figure.figsize'] = (8, 5)\n",
    "\n",
    "rc('text.latex', preamble=r\"\\usepackage[utf8]{inputenc}\")\n",
    "rc('text.latex', preamble=r\"\\usepackage[russian]{babel}\")\n",
    "rc('text.latex', preamble=r\"\\usepackage{lmodern}\")\n",
    "rc('text.latex', preamble=r\"\\usepackage[T2A]{fontenc}\")\n",
    "rc('text.latex', unicode=True)\n",
    "\n",
    "# Options\n",
    "params = {'text.usetex' : True,\n",
    "          'font.size' : 11,\n",
    "          'font.family' : 'lmodern',\n",
    "          'text.latex.unicode': True,\n",
    "          }\n",
    "\n",
    "plt.rcParams.update(params)\n",
    "fig, ax = plt.subplots()\n",
    "\n",
    "minor_locator = AutoMinorLocator(5)\n",
    "ax.yaxis.set_minor_locator(minor_locator)\n",
    "\n",
    "#ax.yaxis.set_ticks(np.arange(0, 1, 0.2))\n",
    "\n",
    "plt.plot(data[0],data[1],'ro', np.arange(0.5, 6.5, 0.5), np.arange(0.5, 6.5, 0.5)*s+i,'k--')\n",
    "\n",
    "plt.xlabel(xlabel)\n",
    "plt.ylabel(ylabel)\n",
    "\n",
    "\n",
    "\n",
    "label = r\"$k=(\" + \"{:.3f}\".format(s) + r\"\\pm\" + \"{:.3f}\".format(s_err) + \")$ \" + units\n",
    "ax.text(0.05, 0.9, label, transform=ax.transAxes, bbox={'facecolor':'white', 'edgecolor':'black', 'pad':10})\n",
    "\n",
    "ax.grid(color='g', linestyle='--', linewidth=0.6)\n",
    "ax.grid(color='g', linestyle='--', linewidth=0.1, which = 'minor' )\n",
    "\n",
    "res = plt.gcf()"
   ]
  },
  {
   "cell_type": "code",
   "execution_count": 72,
   "metadata": {
    "collapsed": false
   },
   "outputs": [
    {
     "data": {
      "image/png": "[encoded data removed]",
      "text/plain": [
       "<matplotlib.figure.Figure at 0x11fd03c50>"
      ]
     },
     "metadata": {},
     "output_type": "display_data"
    }
   ],
   "source": [
    "plt.show()"
   ]
  },
  {
   "cell_type": "code",
   "execution_count": 73,
   "metadata": {
    "collapsed": true
   },
   "outputs": [],
   "source": [
    "# Save file\n",
    "res.savefig(\"graph3.pdf\", \n",
    "            dpi=1000, \n",
    "            # Plot will be occupy a maximum of available space\n",
    "            bbox_inches='tight', \n",
    "            )"
   ]
  },
  {
   "cell_type": "code",
   "execution_count": null,
   "metadata": {
    "collapsed": true
   },
   "outputs": [],
   "source": []
  },
  {
   "cell_type": "code",
   "execution_count": null,
   "metadata": {
    "collapsed": true
   },
   "outputs": [],
   "source": []
  }
 ],
 "metadata": {
  "kernelspec": {
   "display_name": "Python 3",
   "language": "python",
   "name": "python3"
  },
  "language_info": {
   "codemirror_mode": {
    "name": "ipython",
    "version": 3
   },
   "file_extension": ".py",
   "mimetype": "text/x-python",
   "name": "python",
   "nbconvert_exporter": "python",
   "pygments_lexer": "ipython3",
   "version": "3.6.0"
  }
 },
 "nbformat": 4,
 "nbformat_minor": 2
}
